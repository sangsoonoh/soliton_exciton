{
 "cells": [
  {
   "cell_type": "code",
   "execution_count": 1,
   "id": "8a947c54-257f-4d43-81ed-0946d5c634d8",
   "metadata": {},
   "outputs": [],
   "source": [
    "import numpy as np\n",
    "from matplotlib.animation import FuncAnimation\n",
    "from IPython import display\n",
    "import matplotlib.pyplot as plt\n",
    "\n",
    "\n",
    "\n",
    "Figure = plt.figure()\n",
    " \n",
    "# creating a plot\n",
    "lines_plotted = plt.plot([])    \n",
    " \n",
    "# putting limits on x axis since\n",
    "# it is a trigonometry function\n",
    "# (0,2∏)\n",
    "line_plotted = lines_plotted[0]\n",
    " \n",
    "plt.xlim(0,2*np.pi) \n",
    " \n",
    "# putting limits on y since it is a\n",
    "# cosine function\n",
    "plt.ylim(-1.1,1.1)   \n",
    " \n",
    "# initialising x from 0 to 2∏\n",
    "x = np.linspace(0,2*np.pi,100)  \n",
    " \n",
    "#initially\n",
    "y = 0\n",
    "\n",
    "\n",
    "# function takes frame as an input\n",
    "def AnimationFunction(frame):\n",
    " \n",
    "    # setting y according to frame\n",
    "    # number and + x. It's logic\n",
    "    y = np.cos(2*x+3*np.pi*frame/100)**2\n",
    " \n",
    "    # line is set with new values of x and y\n",
    "    line_plotted.set_data((x, y))\n",
    "anim_created = FuncAnimation(Figure, AnimationFunction, frames=100, interval=25)\n",
    "anim_created.save('animation.gif', writer='imagemagick', fps=60)\n",
    "# video = anim_created.to_html5_video()\n",
    "# html = display.HTML(video)\n",
    "# display.display(html)\n",
    " \n",
    "# # good practice to close the plt object.\n",
    "# display.Image(url='animation.gif')\n",
    "plt.close()"
   ]
  },
  {
   "cell_type": "markdown",
   "id": "70a3b26a-e23b-43e4-ac1c-2fa64dfaba51",
   "metadata": {},
   "source": [
    "![Alt Text](animation.gif)"
   ]
  }
 ],
 "metadata": {
  "kernelspec": {
   "display_name": "Python 3",
   "language": "python",
   "name": "python3"
  },
  "language_info": {
   "codemirror_mode": {
    "name": "ipython",
    "version": 3
   },
   "file_extension": ".py",
   "mimetype": "text/x-python",
   "name": "python",
   "nbconvert_exporter": "python",
   "pygments_lexer": "ipython3",
   "version": "3.6.4"
  }
 },
 "nbformat": 4,
 "nbformat_minor": 5
}
