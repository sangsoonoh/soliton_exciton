{
 "cells": [
  {
   "cell_type": "markdown",
   "id": "ee9d0824-8948-4a26-b1cb-e7ddf94a952f",
   "metadata": {},
   "source": [
    "# Convolution\n",
    "\n",
    "The difficult part is to find the matrix representation of $\\tilde{\\mathcal{R}}\\ast$. From [here](http://www.songho.ca/dsp/convolution/convolution2d_example.html), a discrete 2D convolution is the following operation:\n",
    "$$\n",
    "y_{mn}=\\,x_{mn}\\ast h_{mn}=\\,\\sum_{j,i} \\,h_{m-i,n-j}\\cdot x_{ij}.\n",
    "$$\n",
    "So a convolution is sum of hadamard product of matrices over all possible relative matrix positions of $h$ and $x$. Below we have a function `toemat` to convert $\\tilde{\\mathcal{R}}\\ast$ to a matrix multiplication operation inteded to be applicable on the flattened version of $\\tilde{u}$.\n"
   ]
  },
  {
   "cell_type": "code",
   "execution_count": 2,
   "id": "0d43bd7b-d0d1-4bfa-bfae-a5afdb92160c",
   "metadata": {
    "tags": []
   },
   "outputs": [
    {
     "name": "stdout",
     "output_type": "stream",
     "text": [
      "1.1739657014595895e-15\n",
      "[5.81289838 3.88475522 3.70328657 1.75152757 0.89572251]\n"
     ]
    }
   ],
   "source": [
    "\n",
    "# convolution matrix test\n",
    "from scipy import signal as sg\n",
    "import numpy as np\n",
    "x = np.random.uniform(-1, 1, (3,4)) + 1.j * np.random.uniform(-1, 1, (3,4)) # same as the u eigenvector above\n",
    "\n",
    "h = np.random.uniform(-1, 1, (3,4)) + 1.j * np.random.uniform(-1, 1, (3,4)) # same as R(q,k)\n",
    "hstarx = sg.convolve2d(h,x)\n",
    "# print(hstarx)\n",
    "\n",
    "def toemat(h,x): # x is matrix form, returns toeplitz for use with vectorised x, along with intended shape of output\n",
    "    # wording: convolution = toeplitz * x.flatten()\n",
    "    xrows,xcols = x.shape\n",
    "    hrows,hcols = h.shape\n",
    "    convrows = xrows+hrows-1\n",
    "    convcols = xcols+hcols-1\n",
    "    toerows = convrows*convcols # because the toe matrix returns flattened convolution\n",
    "    toecols = xrows*xcols # because the toe(plitz) matrix acts on flattened x\n",
    "    toeplitz = np.zeros((toerows,toecols)) + 0j #  toeplitz which will act on flattened x and gives convolution\n",
    "    #write the toeplitz matrix:\n",
    "    for i in np.arange(0,toerows): # each i is one hadamard product\n",
    "        #coordinates of hadamard product (in other words the coordinates in convolution matrix. Also the across and high by which h and x are slid against each other):\n",
    "        had_i = np.floor(i/convcols)\n",
    "        had_j = i % convcols\n",
    "        \n",
    "        # the range of indices in x and h that are overlapping for this row of hadamard product\n",
    "        x_js = np.arange(np.max([0,had_j-hcols+1]), np.min([xcols,had_j+1]),dtype=int)\n",
    "        h_js = np.arange(np.max([0,hcols-had_j-1]),np.min([hcols,hcols-had_j+xcols-1]),dtype=int)\n",
    "        x_is = np.arange(np.max([0,had_i-hrows+1]), np.min([xrows,had_i+1]),dtype=int)\n",
    "        h_is = np.arange(np.max([0,hrows-had_i-1]),np.min([hrows,hrows-had_i+xrows-1]),dtype=int)\n",
    "        \n",
    "        # print(x_js,h_js)\n",
    "        #write the elements from h into toeplitz matrix using the ranges calculated above\n",
    "        for (x_j,h_j) in zip(x_js,h_js):\n",
    "            for (x_i,h_i) in zip(x_is,h_is):\n",
    "                toeplitz[i,x_i*xcols+x_j] = h[hrows-1-h_i][hcols-1-h_j]        \n",
    "    return (toeplitz,(convrows,convcols))\n",
    "\n",
    "#Test toemat method:\n",
    "toeplitz,convsize = toemat(h,x)\n",
    "hstarx_from_mat = np.matmul(toeplitz,x.flatten()).reshape(convsize)\n",
    "# print(hstarx_from_mat)\n",
    "\n",
    "print(np.linalg.norm(hstarx-hstarx_from_mat))\n",
    "u,s,vh = np.linalg.svd(hstarx)\n",
    "print(s)"
   ]
  },
  {
   "cell_type": "code",
   "execution_count": null,
   "id": "1779901f-0335-4500-a5cf-4b8705151631",
   "metadata": {},
   "outputs": [],
   "source": [
    "import numpy as np\n",
    "\n",
    "xrows = 3\n",
    "xcols = 4\n",
    "hrows = 3\n",
    "hcols = 4\n",
    "\n",
    "had_i = 0\n",
    "had_j = 2\n",
    "\n",
    "x_js = np.arange(np.max([0,had_j-hcols+1]), np.min([xcols,had_j+1]))\n",
    "h_js = np.arange(np.max([0,hcols-had_j-1]),np.min([hcols,hcols-had_j+xcols-1]))\n",
    "x_is = np.arange(np.max([0,had_i-hrows+1]), np.min([xrows,had_i+1]))\n",
    "h_is = np.arange(np.max([0,hrows-had_i-1]),np.min([hrows,hrows-had_i+1]))\n",
    "print(hcols-had_j-1)\n",
    "print(\"h: \",h_js, len(h_js))\n",
    "print(\"x: \",x_js, len(x_js))\n",
    "\n",
    "# print(\"h rows: \",h_is, len(h_is))\n",
    "# print(\"x rows: \",x_is, len(x_is))\n",
    "\n",
    "for (x_j,h_j) in zip(x_js,h_js):\n",
    "    print(x_j,h_j)"
   ]
  }
 ],
 "metadata": {
  "kernelspec": {
   "display_name": "Python 3 (ipykernel)",
   "language": "python",
   "name": "python3"
  },
  "language_info": {
   "codemirror_mode": {
    "name": "ipython",
    "version": 3
   },
   "file_extension": ".py",
   "mimetype": "text/x-python",
   "name": "python",
   "nbconvert_exporter": "python",
   "pygments_lexer": "ipython3",
   "version": "3.10.6"
  }
 },
 "nbformat": 4,
 "nbformat_minor": 5
}
