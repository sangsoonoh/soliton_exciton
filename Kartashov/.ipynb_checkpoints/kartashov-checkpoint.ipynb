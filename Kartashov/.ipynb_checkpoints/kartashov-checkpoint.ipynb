{
 "cells": [
  {
   "cell_type": "markdown",
   "id": "f820e822-258d-42fd-834d-2aa77ea412bb",
   "metadata": {},
   "source": [
    "# Introduction\n",
    "Eq 2 of [PRL 119, 253904 (2017)](https://doi.org/10.1103/PhysRevLett.119.253904) gives, for no magnetic field $\\Omega=0$, no spin-orbit coupling $\\beta=0$, no loss $\\gamma=0$, no pumping $h_\\pm=0$ and no non-linear terms:\n",
    "$$\n",
    "\\frac{1}{2}\\left(\\partial_x^2+\\partial_y^2+2ik\\partial_y-k^2\\right)u-\\mathcal{R}u+\\varepsilon u=0.\n",
    "$$\n",
    "\n",
    "\n",
    "\n",
    "---\n",
    "We will do the following steps:\n",
    "- [x] Define R function\n",
    "- [x] Calculate plane-wave expansion coefficients of R \n",
    "- [ ] Build hamiltonian matrix and find eigenvalues"
   ]
  },
  {
   "cell_type": "code",
   "execution_count": 37,
   "id": "016d33ed-7499-4f5c-96f0-fc5a5ee613ce",
   "metadata": {
    "jupyter": {
     "source_hidden": true
    },
    "tags": []
   },
   "outputs": [
    {
     "data": {
      "image/png": "[encoded data removed]",
      "text/plain": [
       "<Figure size 720x720 with 1 Axes>"
      ]
     },
     "metadata": {
      "needs_background": "light"
     },
     "output_type": "display_data"
    }
   ],
   "source": [
    "import matplotlib.pyplot as plt\n",
    "import matplotlib.patches as patches\n",
    "import numpy as np\n",
    "\n",
    "f = plt.figure(figsize=(10,10))\n",
    "plt.rcParams.update({\n",
    "    \"text.usetex\": True\n",
    "})\n",
    "plt.xlim([0,800])\n",
    "plt.ylim([0,400])\n",
    "ax = f.axes[0]\n",
    "ax.set_aspect('equal')\n",
    "\n",
    "a = 100\n",
    "b = a/np.sqrt(3)\n",
    "\n",
    "a1 = a*np.array([3,np.sqrt(3)])/2/np.sqrt(3)\n",
    "a2 = a*np.array([3,-np.sqrt(3)])/2/np.sqrt(3)\n",
    "\n",
    "firstx = -30\n",
    "firsty = 150\n",
    "\n",
    "i_ = np.arange(-5,10)\n",
    "j_ = np.arange(-5,10)\n",
    "i_,j_ = np.meshgrid(i_,j_)\n",
    "x_= firstx + a1[0]*i_ +  a2[0]*j_\n",
    "y_= firsty + a1[1]*i_ +  a2[1]*j_\n",
    "x2_= x_+ b*np.cos(np.pi/3)\n",
    "y2_= y_ +b*np.sin(np.pi/3)\n",
    "\n",
    "\n",
    "plt.scatter(x_,y_)\n",
    "plt.scatter(x2_,y2_)\n",
    "\n",
    "\n",
    "rect = patches.Rectangle((a*1.15, 2.27*a), 3*b, a, linewidth=1, edgecolor='r', facecolor='none')\n",
    "ax.add_patch(rect)\n",
    "\n",
    "ax.text(180, 330, 'cell_width')\n",
    "ax.text(290, 250, 'cell_height',rotation=90)\n",
    "\n",
    "ax.text(370, 205, '$b$')\n",
    "plt.annotate(text='', xy=(350,200), xytext=(350+b-7,200), arrowprops=dict(arrowstyle='<->'))\n",
    "primvec_start = (550,200)\n",
    "plt.annotate(text='$\\mathbf{a_1}=(\\sqrt{3}/2,1/2)a$', xy=primvec_start, xytext=tuple(np.array(primvec_start)+np.array(a1)), arrowprops=dict(arrowstyle='<-'))\n",
    "plt.annotate(text='$\\mathbf{a_2}=(\\sqrt{3}/2,-1/2)a$', xy=primvec_start, xytext=tuple(np.array(primvec_start)+np.array(a2)), arrowprops=dict(arrowstyle='<-'))\n",
    "plt.title('Locations of Gaussians in the bulk of honeycomb lattice')\n",
    "plt.axis('off')\n",
    "plt.show()\n"
   ]
  },
  {
   "cell_type": "code",
   "execution_count": 1,
   "id": "8bc244ca-c8ad-4176-a562-ba0c66703f92",
   "metadata": {
    "tags": []
   },
   "outputs": [
    {
     "data": {
      "image/png": "[encoded data removed]",
      "text/plain": [
       "<Figure size 1080x72 with 2 Axes>"
      ]
     },
     "metadata": {
      "needs_background": "light"
     },
     "output_type": "display_data"
    }
   ],
   "source": [
    "#Define R(x,y) function for lattice of gaussians\n",
    "\n",
    "import numpy as np\n",
    "import matplotlib.pyplot as plt\n",
    "from matplotlib import cm\n",
    "from matplotlib.ticker import LinearLocator\n",
    "\n",
    "# PRL 119, 253904 (2017)\n",
    "#https://doi.org/10.1103/PhysRevLett.119.253904\n",
    "\n",
    "a = 1.4*np.sqrt(3) #lattice constant\n",
    "b = a/np.sqrt(3) # this is variable 'a' in the paper\n",
    "uc_pillars = [(0,0),       (0.5*b, 0.5*np.sqrt(3)*b), \n",
    "             (1.5*b,0.5*np.sqrt(3)*b), (2*b,0)] \n",
    "             #4 pillars' coordinates in the rectangular unit cell\n",
    "cell_width = np.sqrt(3)*a\n",
    "cell_height = a\n",
    "num_cells = 9\n",
    "paddingx = cell_width*2\n",
    "#supercell width and height\n",
    "Lx = 2*paddingx + cell_width*num_cells\n",
    "Ly = cell_height\n",
    "\n",
    "def principaly(y):\n",
    "    return np.abs(cell_height*(y/cell_height-np.floor(y/cell_height)))\n",
    "\n",
    "def pillar(coord,pillarindex):\n",
    "    x,y = coord\n",
    "    i,j = pillarindex\n",
    "    ym = j*cell_height + uc_pillars[i%4][1]             + a/np.sqrt(24)\n",
    "    xm = np.floor(i/4)*cell_width + uc_pillars[i%4][0]  + a/np.sqrt(12)\n",
    "    \n",
    "    p= 8\n",
    "    d=.5\n",
    "    return -p*np.exp(-((x-xm)**2+(y-ym)**2)/d**2)\n",
    "\n",
    "def R(xx,y):\n",
    "    x = xx + cell_width*num_cells/2\n",
    "    total = np.zeros_like(x)\n",
    "    y = principaly(y)\n",
    "    for i in np.arange(0,len(uc_pillars)*num_cells):\n",
    "        total += pillar( (x,y) , pillarindex=(i,0) )\n",
    "    return total\n",
    "\n",
    "def show_R():\n",
    "\n",
    "    x_ = np.linspace(-Lx/2, Lx/2, 400,endpoint=False)\n",
    "    y_ = np.linspace(-Ly/2, Ly/2, 100,endpoint=False)\n",
    "    x_, y_ = np.meshgrid(x_, y_)\n",
    "\n",
    "    r_ = R(x_,y_)\n",
    "\n",
    "    # print(r_)\n",
    "\n",
    "    plt.figure(figsize=(15,1))\n",
    "    h = plt.contourf(x_, y_, r_)\n",
    "\n",
    "    plt.colorbar()\n",
    "    plt.clim(-10,0)\n",
    "    plt.show()\n",
    "show_R()"
   ]
  },
  {
   "cell_type": "markdown",
   "id": "75b8585b-1294-443a-a629-cd5b30ddc49c",
   "metadata": {},
   "source": [
    "# Plane-wave expansion\n",
    "Due to periodicity the correct FT of $u$ and $\\mathcal{R}$ will have discrete Fourier coefficients ${u}_G$ and ${\\mathcal{R}}_G$:\n",
    "$$\n",
    "u(x,y)=\\sum_G\\, u_G \\,e^{i\\bf{G}\\cdot \\bf{r}},\n",
    "$$ and\n",
    "$$\n",
    "\\mathcal{R}(x,y)=\\sum_G\\, \\mathcal{R}_G \\,e^{i\\bf{G}\\cdot \\bf{r}},\n",
    "$$ where \n",
    "\n",
    "$$\n",
    " G \\equiv (G_x,G_y)^T \\equiv \\left(\\frac{2\\pi n}{L_x}, \\frac{2\\pi m}{L_y}\\right)^T\n",
    "$$\n",
    "\n",
    "so that \n",
    "\n",
    "$$\n",
    "\\partial_x\\xrightarrow{}{iG_x},\\quad \\implies \\partial_x^2\\xrightarrow{}{-G_x^2} \\\\\n",
    "\\partial_y\\xrightarrow{}{iG_y},\\quad \\implies \\partial_y^2\\xrightarrow{}{-G_y^2}\n",
    "$$"
   ]
  },
  {
   "cell_type": "code",
   "execution_count": 5,
   "id": "32bb4d28-fba0-4de2-b611-b297e09bcb61",
   "metadata": {},
   "outputs": [
    {
     "name": "stdout",
     "output_type": "stream",
     "text": [
      "calculating R harmonics...done!\n",
      "testing coefficients\n"
     ]
    },
    {
     "data": {
      "image/png": "[encoded data removed]",
      "text/plain": [
       "<Figure size 288x576 with 2 Axes>"
      ]
     },
     "metadata": {
      "needs_background": "light"
     },
     "output_type": "display_data"
    },
    {
     "data": {
      "image/png": "[encoded data removed]",
      "text/plain": [
       "<Figure size 1080x72 with 2 Axes>"
      ]
     },
     "metadata": {
      "needs_background": "light"
     },
     "output_type": "display_data"
    }
   ],
   "source": [
    "# Calculate plane-wave expansion coefficients of R \n",
    "N=10\n",
    "M=6\n",
    "\n",
    "\n",
    "def G(diff_coord):\n",
    "    n,m = diff_coord\n",
    "    return np.array([2*np.pi*n/Lx,2*np.pi*m/Ly])\n",
    "\n",
    "def calc_fourier_coeffs(N,M, func):\n",
    "    print(\"calculating R harmonics...\",end=\"\")\n",
    "    dx = .05\n",
    "    dy = .05\n",
    "    fromx=-Lx/2\n",
    "    tox=Lx/2\n",
    "    fromy=-Ly/2\n",
    "    toy=Ly/2\n",
    "    nx = int((tox - fromx) / dx)\n",
    "    ny = int((toy - fromy) / dy)\n",
    "    x_, y_ = np.meshgrid(np.linspace(fromx, tox, nx, endpoint=False),\n",
    "                         np.linspace(fromy, toy, ny, endpoint=False),\n",
    "                         indexing='ij')\n",
    "    R_ = func(x_,y_)\n",
    "    \n",
    "    # The harmonics are going to range from -2N:2N and -2M:2M\n",
    "    coeffs = np.empty([4*N+1,4*M+1], dtype=complex)\n",
    "    for i,row in enumerate(coeffs):\n",
    "        for j,entry in enumerate(row):\n",
    "            n = i-2*N\n",
    "            m = j-2*M\n",
    "            Gx,Gy=G((n,m))\n",
    "            basis = np.exp(-1j * (Gx*x_ + Gy*y_))\n",
    "            integrand_ = np.multiply (R_,basis )\n",
    "            int_along_x = np.trapz(integrand_, axis=1, dx=dx)\n",
    "            int_total = np.trapz(int_along_x, dx=dy)\n",
    "            coeffs[i][j] = int_total\n",
    "    print(\"done!\")\n",
    "    return coeffs/Lx/Ly\n",
    "\n",
    "\n",
    "def fetch_coeff(n,m,coeffs):\n",
    "    rows,cols = coeffs.shape\n",
    "    N=int((rows-1)/4)\n",
    "    M = int((cols-1)/4)\n",
    "    return coeffs[n+2*N][m+2*M]\n",
    "\n",
    "RG = calc_fourier_coeffs(N,M,R)\n",
    "\n",
    "def test_coefficients():\n",
    "    #have a sample function, and test whether calculate_R_harmonics function is behaving properly\n",
    "    print(\"testing coefficients\")\n",
    "    x_ = np.arange(-15, 15, 0.2)\n",
    "    y_ = np.arange(0, cell_height, 0.2)\n",
    "    x_, y_ = np.meshgrid(x_, y_)\n",
    "    r_ = R(x_,y_)\n",
    "    \n",
    "    plt.figure(figsize=(4,8))\n",
    "    h = plt.imshow(np.abs(RG))\n",
    "    plt.colorbar()\n",
    "#     plt.clim(-10,10)\n",
    "    \n",
    "    x_ = np.arange(-Lx/2, Lx/2, 0.2)\n",
    "    y_ = np.arange(-Ly/2, Ly/2, 0.2)\n",
    "    x_, y_ = np.meshgrid(x_, y_)\n",
    "        \n",
    "    def rebuild_func(x,y):\n",
    "        n_ = np.arange(-2*N,2*N+1)\n",
    "        m_ = np.arange(-2*M,2*M+1)\n",
    "        n_,m_ = np.meshgrid(n_,m_,indexing='ij')\n",
    "        Gx_ = 2*np.pi*n_/Lx\n",
    "        Gy_ = 2*np.pi*m_/Ly\n",
    "        basis = np.exp(1j*(Gx_*x+Gy_*y))\n",
    "        summand = np.multiply(RG,basis)\n",
    "        return np.sum(summand)\n",
    "    vrebuild_func = np.vectorize(rebuild_func)\n",
    "    rr_ = vrebuild_func(x_,y_)\n",
    "    plt.figure(figsize=(15,1))\n",
    "    h = plt.contourf(x_, y_, np.real(rr_))\n",
    "\n",
    "    plt.colorbar()\n",
    "    plt.show()\n",
    "    \n",
    "    \n",
    "test_coefficients()"
   ]
  },
  {
   "cell_type": "markdown",
   "id": "ebfd3b5f-af62-4c6e-bf9f-33d2dc586200",
   "metadata": {},
   "source": [
    "# Eigenvalue equation\n",
    "\n",
    "Then the equation \n",
    "$$\n",
    "\\frac{1}{2}\\left(\\partial_x^2+\\partial_y^2+2ik\\partial_y-k^2\\right)u-\\mathcal{R}u+\\varepsilon u=0,\n",
    "$$\n",
    "becomes using the Fourier expansions of $u$ and $\\mathcal{R}$\n",
    "$$\n",
    "\\sum_G\\frac{1}{2}\\left(-G_x^2-G_y^2-2kG_y-k^2\\right)u_Ge^{iG\\cdot r}-\\sum_{GG'}\\mathcal{R}_{G'}u_Ge^{i(G'+G)\\cdot r}=-\\varepsilon \\sum_G u_G e^{iG\\cdot r}.\n",
    "$$\n",
    "Moving the indices in double sum several times we realise that it is the same as:\n",
    "$$\n",
    "\\sum_{GG'}\\mathcal{R}_{G'}u_Ge^{i(G'+G)\\cdot r}=\\sum_{GG'}\\mathcal{R}_{G-G'}u_{G'}e^{iG\\cdot r}\n",
    "$$\n",
    "\n",
    "giving us an eigenvalue equation over the basis $e^{iG\\cdot r}$:\n",
    "$$\n",
    "\\frac{1}{2}\\left(G_x^2+(k+G_y)^2\\right)u_G+\\sum_{G'}\\mathcal{R}_{G-G'}u_{G'}=\\varepsilon\\,u_G\n",
    "$$"
   ]
  },
  {
   "cell_type": "code",
   "execution_count": 31,
   "id": "c2fb142c-56ea-4de3-99e5-3600034dc270",
   "metadata": {},
   "outputs": [
    {
     "name": "stdout",
     "output_type": "stream",
     "text": [
      "(100, 273)\n",
      "273\n"
     ]
    }
   ],
   "source": [
    "# Code for above eigen value equation:\n",
    "import numpy as np\n",
    "from scipy import integrate\n",
    "import numpy.linalg as la\n",
    "\n",
    "def generate_basis(N:int, M:int):\n",
    "    \"\"\"\n",
    "    Generates an ordered basis, that is, an np array of tuples containing Bragg harmonics indicies in a particular order to be used to generate matrices for secular eqations.\n",
    "    \n",
    "    Returns\n",
    "    -------\n",
    "    A np array of tuples of 2 ints. The first int is Bragg harmonic index in N direction. The second in M direction.\n",
    "    \"\"\"\n",
    "    # Assume that their are N fourier harmonics in the x direction and M along y\n",
    "    n_ = np.arange(-N,N+1)\n",
    "    m_ = np.arange(-M,M+1)\n",
    "    # Then we choose to order the harmonics of u_G as a sum over n of sum over m\n",
    "    basis = np.empty(len(n_)*len(m_),dtype=tuple)\n",
    "    for i,n in enumerate(n_):\n",
    "        for j,m in enumerate(m_):\n",
    "            basis[i*len(m_)+j]=(n,m)\n",
    "    return basis\n",
    "basis = generate_basis(N,M)\n",
    "\n",
    "def build_matrix(basis, entry_formula:callable):\n",
    "    size = len(basis)\n",
    "    matrix = np.empty([size,size],dtype=complex)\n",
    "    for i in np.arange(0,size):\n",
    "        for j in np.arange(0,size):\n",
    "            row = basis[i]\n",
    "            col = basis[j]\n",
    "            matrix[i][j] = entry_formula(row, col)\n",
    "    return matrix\n",
    "\n",
    "def hamiltonian_formula(row,col,k):\n",
    "    diag_term = 0\n",
    "    if row==col:\n",
    "        Gx,Gy = G(row)\n",
    "        diag_term = .5*(Gx**2+(k+Gy)**2)\n",
    "    n,m = tuple(np.subtract(row,col))\n",
    "    return diag_term + fetch_coeff(n,m,RG)\n",
    "\n",
    "def calc_eig(k):\n",
    "    hamiltonian = build_matrix(basis, entry_formula = lambda row,col: hamiltonian_formula(row,col,k))\n",
    "    eigval,eigvec = la.eig(hamiltonian)\n",
    "    return eigval\n",
    "\n",
    "num_eig = (2*N+1)*(2*M+1)\n",
    "\n",
    "K=2*np.pi/np.sqrt(3)/b\n",
    "\n",
    "k_ = np.linspace(0,K,100)\n",
    "eig__ = np.empty([len(k_),num_eig],dtype=complex)\n",
    "\n",
    "# print(k_.shape, eig__.shape)\n",
    "\n",
    "for i,k in enumerate(k_):\n",
    "    # calc_eig(k)\n",
    "    eig__[i,:] = calc_eig(k)\n",
    "\n",
    "print(eig__.shape)\n",
    "print(num_eig)"
   ]
  },
  {
   "cell_type": "code",
   "execution_count": 1,
   "id": "d8b1786b-8bad-40b3-80c9-cb0406720fe1",
   "metadata": {},
   "outputs": [
    {
     "ename": "NameError",
     "evalue": "name 'plt' is not defined",
     "output_type": "error",
     "traceback": [
      "\u001b[1;31m---------------------------------------------------------------------------\u001b[0m",
      "\u001b[1;31mNameError\u001b[0m                                 Traceback (most recent call last)",
      "Input \u001b[1;32mIn [1]\u001b[0m, in \u001b[0;36m<cell line: 2>\u001b[1;34m()\u001b[0m\n\u001b[0;32m      1\u001b[0m \u001b[38;5;66;03m# plot eigenvalues\u001b[39;00m\n\u001b[1;32m----> 2\u001b[0m \u001b[43mplt\u001b[49m\u001b[38;5;241m.\u001b[39mfigure(figsize\u001b[38;5;241m=\u001b[39m(\u001b[38;5;241m8\u001b[39m,\u001b[38;5;241m5\u001b[39m))\n\u001b[0;32m      3\u001b[0m \u001b[38;5;28;01mfor\u001b[39;00m i \u001b[38;5;129;01min\u001b[39;00m np\u001b[38;5;241m.\u001b[39marange(\u001b[38;5;241m0\u001b[39m,num_eig):\n\u001b[0;32m      4\u001b[0m     plt\u001b[38;5;241m.\u001b[39mscatter(k_\u001b[38;5;241m/\u001b[39mK, np\u001b[38;5;241m.\u001b[39mreal(eig__[:,i]),s\u001b[38;5;241m=\u001b[39m\u001b[38;5;241m1\u001b[39m,c\u001b[38;5;241m=\u001b[39m\u001b[38;5;124m'\u001b[39m\u001b[38;5;124mblack\u001b[39m\u001b[38;5;124m'\u001b[39m)\n",
      "\u001b[1;31mNameError\u001b[0m: name 'plt' is not defined"
     ]
    }
   ],
   "source": [
    "# plot eigenvalues\n",
    "plt.figure(figsize=(8,5))\n",
    "for i in np.arange(0,num_eig):\n",
    "    plt.scatter(k_/K, np.real(eig__[:,i]),s=1,c='black')\n",
    "plt.xlabel('k/K')\n",
    "plt.ylabel('eps')\n",
    "plt.axvline(1/3, label='k=K/3')\n",
    "plt.xlim([0,1])\n",
    "plt.ylim([-2,0])\n",
    "plt.legend()\n",
    "plt.show()\n"
   ]
  }
 ],
 "metadata": {
  "kernelspec": {
   "display_name": "Python 3 (ipykernel)",
   "language": "python",
   "name": "python3"
  },
  "language_info": {
   "codemirror_mode": {
    "name": "ipython",
    "version": 3
   },
   "file_extension": ".py",
   "mimetype": "text/x-python",
   "name": "python",
   "nbconvert_exporter": "python",
   "pygments_lexer": "ipython3",
   "version": "3.10.6"
  }
 },
 "nbformat": 4,
 "nbformat_minor": 5
}
