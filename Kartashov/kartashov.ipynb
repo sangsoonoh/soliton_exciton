{
 "cells": [
  {
   "cell_type": "code",
   "execution_count": 48,
   "id": "8bc244ca-c8ad-4176-a562-ba0c66703f92",
   "metadata": {},
   "outputs": [
    {
     "data": {
      "image/png": "[encoded data removed]",
      "text/plain": [
       "<Figure size 2160x360 with 2 Axes>"
      ]
     },
     "metadata": {
      "needs_background": "light"
     },
     "output_type": "display_data"
    }
   ],
   "source": [
    "import numpy as np\n",
    "import matplotlib.pyplot as plt\n",
    "from matplotlib import cm\n",
    "from matplotlib.ticker import LinearLocator\n",
    "\n",
    "# PRL 119, 253904 (2017)\n",
    "#https://doi.org/10.1103/PhysRevLett.119.253904\n",
    "\n",
    "a=1.4 #lattice constant\n",
    "uc_pillars = [(0,0), (a/np.sqrt(12), a/np.sqrt(6)), (a/np.sqrt(12)+a/np.sqrt(3), a/np.sqrt(6)), (2*a/np.sqrt(12)+a/np.sqrt(3), 0)] #4 pillars' coordinates in the rectangular unit cell\n",
    "cell_width = np.sqrt(3)*a\n",
    "cell_height = a\n",
    "\n",
    "\n",
    "def colvec(lst):\n",
    "    return np.transpose(np.array([lst]))\n",
    "\n",
    "def pillar(coord,pillarindex):\n",
    "    x,y = coord\n",
    "    i,j = pillarindex\n",
    "    ym = j*cell_height + uc_pillars[i%4][1]\n",
    "    xm = np.floor(i/4)*cell_width + uc_pillars[i%4][0]\n",
    "    p=8\n",
    "    d=.25\n",
    "    return -p*np.exp(-((x-xm)**2+(y-ym)**2)/d**2)\n",
    "\n",
    "def R(x,y):\n",
    "    total = 0\n",
    "    for i in np.arange(0,len(uc_pillars)*9):\n",
    "        for j in np.arange(0,1):\n",
    "            total += pillar( (x,y) , pillarindex=(i,j) )\n",
    "    return total\n",
    "\n",
    "\n",
    "vR = np.vectorize(R)\n",
    "x_ = np.arange(-5, 25, 0.2)\n",
    "y_ = np.arange(-1, 5, 0.2)\n",
    "x_, y_ = np.meshgrid(x_, y_)\n",
    "\n",
    "r_ = vR(x_,y_)\n",
    "\n",
    "plt.figure(figsize=(30,5))\n",
    "h = plt.contourf(x_, y_, r_)\n",
    "\n",
    "plt.colorbar()\n",
    "plt.clim(-10,0)\n",
    "plt.show()\n",
    "\n",
    " "
   ]
  },
  {
   "cell_type": "code",
   "execution_count": 32,
   "id": "87cb582f-e6fe-4d01-b3c4-9d64cc4f544e",
   "metadata": {},
   "outputs": [
    {
     "data": {
      "text/plain": [
       "1.0"
      ]
     },
     "execution_count": 32,
     "metadata": {},
     "output_type": "execute_result"
    }
   ],
   "source": [
    "np.floor(5/4)"
   ]
  },
  {
   "cell_type": "code",
   "execution_count": 33,
   "id": "6242392c-802f-456e-bb14-c65a551f0711",
   "metadata": {},
   "outputs": [
    {
     "name": "stdout",
     "output_type": "stream",
     "text": [
      "2.286190426597633\n",
      "2.424871130596428\n"
     ]
    }
   ],
   "source": [
    "\n",
    "a=1.4 #lattice constant\n",
    "uc_pillars = [(0,0), (a/np.sqrt(6), a/np.sqrt(2)), (a/np.sqrt(6)+a*np.sqrt(2/3), a/np.sqrt(2)), (2*a/np.sqrt(6)+a*np.sqrt(2/3), 0)] #4 pillars' coordinates in the rectangular unit cell\n",
    "print(uc_pillars[3][0])\n",
    "print(np.sqrt(3)*a)"
   ]
  },
  {
   "cell_type": "code",
   "execution_count": 34,
   "id": "8d7678df-4cbb-4c70-8adc-32c68ab1d9ca",
   "metadata": {},
   "outputs": [
    {
     "data": {
      "text/plain": [
       "[(0, 0),\n",
       " (0.5715476066494083, 0.9899494936611664),\n",
       " (1.7146428199482247, 0.9899494936611664),\n",
       " (2.286190426597633, 0)]"
      ]
     },
     "execution_count": 34,
     "metadata": {},
     "output_type": "execute_result"
    }
   ],
   "source": [
    "uc_pillars"
   ]
  },
  {
   "cell_type": "code",
   "execution_count": null,
   "id": "80c1949f-8234-41f5-ac32-938fd31758ff",
   "metadata": {},
   "outputs": [],
   "source": []
  }
 ],
 "metadata": {
  "kernelspec": {
   "display_name": "Python 3 (ipykernel)",
   "language": "python",
   "name": "python3"
  },
  "language_info": {
   "codemirror_mode": {
    "name": "ipython",
    "version": 3
   },
   "file_extension": ".py",
   "mimetype": "text/x-python",
   "name": "python",
   "nbconvert_exporter": "python",
   "pygments_lexer": "ipython3",
   "version": "3.10.6"
  }
 },
 "nbformat": 4,
 "nbformat_minor": 5
}
